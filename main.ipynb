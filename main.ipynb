{
  "nbformat": 4,
  "nbformat_minor": 0,
  "metadata": {
    "colab": {
      "provenance": []
    },
    "kernelspec": {
      "name": "python3",
      "display_name": "Python 3"
    },
    "language_info": {
      "name": "python"
    }
  },
  "cells": [
    {
      "cell_type": "code",
      "execution_count": 4,
      "metadata": {
        "colab": {
          "base_uri": "https://localhost:8080/",
          "height": 593
        },
        "id": "v9-gelw5fc_s",
        "outputId": "eb913ce1-1437-4315-838d-bcdb0b7ee2f2"
      },
      "outputs": [
        {
          "output_type": "stream",
          "name": "stdout",
          "text": [
            "Colab notebook detected. To show errors in colab notebook, set debug=True in launch()\n",
            "Running on public URL: https://35847565338fc3b156.gradio.live\n",
            "\n",
            "This share link expires in 72 hours. For free permanent hosting and GPU upgrades, run `gradio deploy` from Terminal to deploy to Spaces (https://huggingface.co/spaces)\n"
          ]
        },
        {
          "output_type": "display_data",
          "data": {
            "text/plain": [
              "<IPython.core.display.HTML object>"
            ],
            "text/html": [
              "<div><iframe src=\"https://35847565338fc3b156.gradio.live\" width=\"100%\" height=\"500\" allow=\"autoplay; camera; microphone; clipboard-read; clipboard-write;\" frameborder=\"0\" allowfullscreen></iframe></div>"
            ]
          },
          "metadata": {}
        },
        {
          "output_type": "execute_result",
          "data": {
            "text/plain": []
          },
          "metadata": {},
          "execution_count": 4
        }
      ],
      "source": [
        "#필요한 라이브러리 정의\n",
        "#!pip gradio\n",
        "import gradio as gr\n",
        "\n",
        "# object detection 모델 호출\n",
        "def objDetect(image):\n",
        "    # 모델 호출 구현 (현재 임시값 반환)\n",
        "    detected_objects = \"temp\"\n",
        "    return detected_objects\n",
        "\n",
        "# TTS 호출 구현\n",
        "def tts(detected_objects):\n",
        "    # TTS 호출 구현 (현재 임시값 반환)\n",
        "    tts_result = \"ttstemp\"\n",
        "    return tts_result\n",
        "\n",
        "# 이미지에서 객체를 감지하고 TTS로 변환하는 함수\n",
        "def process_image(image):\n",
        "    detected_objects = objDetect(image)\n",
        "    tts_result = tts(detected_objects)\n",
        "    return tts_result\n",
        "\n",
        "# Gradio 인터페이스 생성\n",
        "with gr.Blocks() as iface:\n",
        "    with gr.Column():\n",
        "        input_image = gr.Image(type=\"pil\", label=\"Input Image\")\n",
        "        output_text = gr.Textbox(label=\"TTS Result\", lines=2)\n",
        "        submit_button = gr.Button(\"Process Image\")\n",
        "\n",
        "    submit_button.click(fn=process_image, inputs=input_image, outputs=output_text)\n",
        "\n",
        "# 인터페이스 실행 및 공유 URL 생성\n",
        "iface.launch(share=True)\n"
      ]
    }
  ]
}