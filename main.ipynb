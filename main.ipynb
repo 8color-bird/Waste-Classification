{
  "nbformat": 4,
  "nbformat_minor": 0,
  "metadata": {
    "colab": {
      "provenance": [],
      "gpuType": "T4"
    },
    "kernelspec": {
      "name": "python3",
      "display_name": "Python 3"
    },
    "language_info": {
      "name": "python"
    },
    "accelerator": "GPU"
  },
  "cells": [
    {
      "cell_type": "code",
      "source": [
        "# 필요한 라이브러리 정의\n",
        "#!pip install gradio\n",
        "import gradio as gr\n",
        "#!pip install gtts\n",
        "import gtts\n",
        "#!pip install ultralytics\n",
        "from ultralytics import YOLO\n",
        "import torch\n",
        "import cv2\n",
        "import numpy as np\n",
        "from tts_final import tts\n",
        "import sys\n",
        "import os\n",
        "from collections import Counter\n",
        "\n",
        "# tts_final 모듈 경로 추가\n",
        "sys.path.append('/content')\n",
        "\n",
        "\n",
        "\n"
      ],
      "metadata": {
        "collapsed": true,
        "id": "lgxyWN6rNoZT"
      },
      "execution_count": 41,
      "outputs": []
    },
    {
      "cell_type": "code",
      "source": [
        "# 영어로 설정된 class를 한국어로 번역 (tts를 위해서)\n",
        "from collections import Counter\n",
        "\n",
        "def wordChanger(word):\n",
        "    if word == \"can\":\n",
        "        return \"캔\"\n",
        "    elif word == \"glass\":\n",
        "        return \"유리\"\n",
        "    elif word == \"paper\":\n",
        "        return \"종이\"\n",
        "    elif word == \"pet\":\n",
        "        return \"페트병\"\n",
        "    elif word == \"plastic\":\n",
        "        return \"플라스틱\"\n",
        "    elif word == \"styrofoam\":\n",
        "        return \"스티로폼\"\n",
        "    elif word == \"vinyl\":\n",
        "        return \"비닐\""
      ],
      "metadata": {
        "id": "dx9LjrcL87r2"
      },
      "execution_count": 42,
      "outputs": []
    },
    {
      "cell_type": "code",
      "source": [
        "# YOLO 모델 로드\n",
        "model = YOLO(\"/content/best.pt\")"
      ],
      "metadata": {
        "id": "H_F5WCyd4Plx"
      },
      "execution_count": 43,
      "outputs": []
    },
    {
      "cell_type": "code",
      "source": [
        "# 객체 감지 함수 구현\n",
        "def objDetect(image_path):\n",
        "    # 이미지 경로에서 객체 감지 실행\n",
        "    results = model.predict(image_path)\n",
        "\n",
        "    # 결과에서 객체 이름 추출\n",
        "    detected_objects = []\n",
        "    for result in results:\n",
        "        detected_objects.extend([result.names[int(cls)] for cls in result.boxes.cls])\n",
        "\n",
        "    # 객체의 개수 세기\n",
        "    object_counts = Counter(detected_objects)\n",
        "    object_counts_dict = dict(object_counts)\n",
        "\n",
        "    # 최빈값 찾기\n",
        "    most_common_word, _ = object_counts.most_common(1)[0]\n",
        "\n",
        "    # 최빈값 번역하기\n",
        "    best = wordChanger(most_common_word)\n",
        "\n",
        "    return best\n",
        "# 이미지에서 객체를 감지하고 TTS로 변환하는 함수\n",
        "def process_image(image):\n",
        "    detected_objects = objDetect(image)\n",
        "    tts_result = tts(detected_objects)\n",
        "    return tts_result\n"
      ],
      "metadata": {
        "id": "kaCdPt_y4BTk"
      },
      "execution_count": 47,
      "outputs": []
    },
    {
      "cell_type": "code",
      "source": [
        "# Gradio 인터페이스 생성\n",
        "with gr.Blocks(css=\"styles.css\") as iface:\n",
        "    # 타이틀 및 설명 텍스트 추가\n",
        "    gr.Markdown(\"<div class='container'><h1>Voicena 보이시네</h1>\")\n",
        "    gr.Markdown(\"사진을 등록해주세요.</div>\")\n",
        "\n",
        "    with gr.Column():\n",
        "        input_image = gr.Image(type=\"pil\", label=\"Input Image\")\n",
        "        submit_button = gr.Button(\"Process Image\")\n",
        "        output_audio = gr.Audio(label=\"TTS Result\", type=\"filepath\", autoplay=True)\n",
        "\n",
        "    submit_button.click(fn=process_image, inputs=input_image, outputs=output_audio)\n",
        "\n",
        "    # 하단바 추가\n",
        "    gr.Markdown(\"<div class='container'><hr>\")\n",
        "    gr.Markdown(\"© 2024 8 color bird. All rights reserved.</div>\")\n",
        "\n",
        "# 인터페이스 실행 및 공유 URL 생성\n",
        "iface.launch(share=True)"
      ],
      "metadata": {
        "colab": {
          "base_uri": "https://localhost:8080/",
          "height": 613
        },
        "id": "9y1zlv8X4X-D",
        "outputId": "23fbf6f4-3af3-4798-df36-0c7a212ba612"
      },
      "execution_count": 51,
      "outputs": [
        {
          "output_type": "stream",
          "name": "stdout",
          "text": [
            "Colab notebook detected. To show errors in colab notebook, set debug=True in launch()\n",
            "Running on public URL: https://28b3be9e617c5ea02e.gradio.live\n",
            "\n",
            "This share link expires in 72 hours. For free permanent hosting and GPU upgrades, run `gradio deploy` from Terminal to deploy to Spaces (https://huggingface.co/spaces)\n"
          ]
        },
        {
          "output_type": "display_data",
          "data": {
            "text/plain": [
              "<IPython.core.display.HTML object>"
            ],
            "text/html": [
              "<div><iframe src=\"https://28b3be9e617c5ea02e.gradio.live\" width=\"100%\" height=\"500\" allow=\"autoplay; camera; microphone; clipboard-read; clipboard-write;\" frameborder=\"0\" allowfullscreen></iframe></div>"
            ]
          },
          "metadata": {}
        },
        {
          "output_type": "execute_result",
          "data": {
            "text/plain": []
          },
          "metadata": {},
          "execution_count": 51
        }
      ]
    }
  ]
}