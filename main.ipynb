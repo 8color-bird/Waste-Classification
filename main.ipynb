{
  "nbformat": 4,
  "nbformat_minor": 0,
  "metadata": {
    "colab": {
      "provenance": []
    },
    "kernelspec": {
      "name": "python3",
      "display_name": "Python 3"
    },
    "language_info": {
      "name": "python"
    }
  },
  "cells": [
    {
      "cell_type": "code",
      "source": [
        "#필요한 라이브러리 정의\n",
        "#!pip install gradio\n",
        "import gradio as gr\n",
        "#!pip install gtts\n",
        "\n",
        "from tts_final import tts\n",
        "#!pip install ultralytics\n",
        "import torch\n",
        "from ultralytics import YOLO\n",
        "import cv2\n",
        "import numpy as np"
      ],
      "metadata": {
        "collapsed": true,
        "id": "lgxyWN6rNoZT"
      },
      "execution_count": null,
      "outputs": []
    },
    {
      "cell_type": "code",
      "source": [
        "from collections import Counter\n",
        "from ultralytics import YOLO\n",
        "\n",
        "# YOLO 모델 로드\n",
        "model = YOLO(\"/content/best.pt\")\n",
        "\n",
        "# 객체 감지 결과를 딕셔너리로 변환하는 함수\n",
        "def dictMaker(image):\n",
        "    # 이미지 경로에서 객체 감지 실행\n",
        "    results = model.predict(image_path)\n",
        "\n",
        "    # 결과에서 객체 이름 추출\n",
        "    detected_objects = []\n",
        "    for result in results:\n",
        "        detected_objects.extend([result.names[int(cls)] for cls in result.boxes.cls])\n",
        "\n",
        "    # 객체의 개수 세기\n",
        "    object_counts = Counter(detected_objects)\n",
        "\n",
        "    return dict(object_counts)\n",
        "\n",
        "# 예시 이미지 경로\n",
        "image_path = \"/content/KakaoTalk_20240620_183718962.jpg\"\n",
        "\n",
        "# dictMaker 함수 호출\n",
        "object_counts = dictMaker(image_path)\n",
        "\n",
        "# 결과 출력\n",
        "print(\"Object Counts:\")\n",
        "print(object_counts)\n"
      ],
      "metadata": {
        "colab": {
          "base_uri": "https://localhost:8080/"
        },
        "id": "nJk1CViPKNh8",
        "outputId": "8cd38e14-6287-49cf-e18d-97b5a4dd9a20"
      },
      "execution_count": 35,
      "outputs": [
        {
          "output_type": "stream",
          "name": "stdout",
          "text": [
            "\n",
            "image 1/1 /content/KakaoTalk_20240620_183718962.jpg: 800x608 1 paper, 2 plastics, 1 vinyl, 1319.8ms\n",
            "Speed: 10.2ms preprocess, 1319.8ms inference, 1.3ms postprocess per image at shape (1, 3, 800, 608)\n",
            "Object Counts:\n",
            "{'plastic': 2, 'paper': 1, 'vinyl': 1}\n"
          ]
        }
      ]
    },
    {
      "cell_type": "code",
      "source": [
        "# 영어로 설정된 class를 한국어로 번역 (tts를 위해서)\n",
        "from collections import Counter\n",
        "\n",
        "def wordChanger(word):\n",
        "    if word == \"can\":\n",
        "        return \"캔\"\n",
        "    elif word == \"glass\":\n",
        "        return \"유리\"\n",
        "    elif word == \"paper\":\n",
        "        return \"종이\"\n",
        "    elif word == \"pet\":\n",
        "        return \"페트병\"\n",
        "    elif word == \"plastic\":\n",
        "        return \"플라스틱\"\n",
        "    elif word == \"styrofoam\":\n",
        "        return \"스티로폼\"\n",
        "    elif word == \"vinyl\":\n",
        "        return \"비닐\""
      ],
      "metadata": {
        "id": "dx9LjrcL87r2"
      },
      "execution_count": 36,
      "outputs": []
    },
    {
      "cell_type": "code",
      "source": [
        "# Gradio에서 동작을 수행하기 위한 함수 구현부\n",
        "\n",
        "# 객체 감지 함수 구현\n",
        "def objDetect(image):\n",
        "  # 이미지 경로에서 객체 감지 실행\n",
        "  results = model.predict(image)\n",
        "\n",
        "  # 결과에서 객체 이름 추출\n",
        "  detected_objects = []\n",
        "  for result in results:\n",
        "    detected_objects.extend([result.names[int(cls)] for cls in result.boxes.cls])\n",
        "\n",
        "  # 객체의 개수 세기\n",
        "  object_counts = Counter(detected_objects)\n",
        "  object_counts_dict = dict(object_counts)\n",
        "\n",
        "  # 최빈값 찾기\n",
        "  most_common_word, _ = object_counts.most_common(1)[0]\n",
        "\n",
        "  # 최빈값 번역하기\n",
        "  best = wordChanger(most_common_word)\n",
        "\n",
        "  return best\n",
        "\n",
        "# 이미지에서 객체를 감지하고 TTS로 변환하는 함수\n",
        "def process_image(image):\n",
        "    detected_objects = objDetect(image)\n",
        "    tts_result = tts(detected_objects)\n",
        "    return tts_result\n",
        "\n",
        "# Gradio 인터페이스 생성\n",
        "with gr.Blocks(css=\"styles.css\") as iface:\n",
        "    # 타이틀 및 설명 텍스트 추가\n",
        "    gr.Markdown(\"<div class='container'><h1>Voicena 보이시네</h1>\")\n",
        "    gr.Markdown(\"사진을 등록해주세요.</div>\")\n",
        "\n",
        "    with gr.Column():\n",
        "        input_image = gr.Image(type=\"pil\", label=\"Input Image\")\n",
        "        output_audio = gr.Audio(label=\"TTS Result\", type=\"filepath\", autoplay=True)\n",
        "        submit_button = gr.Button(\"Process Image\")\n",
        "\n",
        "    submit_button.click(fn=process_image, inputs=input_image, outputs=output_audio)\n",
        "\n",
        "    # 하단바 추가\n",
        "    gr.Markdown(\"<div class='container'><hr>\")\n",
        "    gr.Markdown(\"© 2024 8 color bird. All rights reserved.</div>\")\n",
        "\n",
        "# 인터페이스 실행 및 공유 URL 생성\n",
        "iface.launch(share=True)\n"
      ],
      "metadata": {
        "colab": {
          "base_uri": "https://localhost:8080/",
          "height": 613
        },
        "id": "TP6wgXlFVTKV",
        "outputId": "82d32a54-f432-4039-f5b6-42808e538972"
      },
      "execution_count": 39,
      "outputs": [
        {
          "output_type": "stream",
          "name": "stdout",
          "text": [
            "Colab notebook detected. To show errors in colab notebook, set debug=True in launch()\n",
            "Running on public URL: https://9009976e574865caa1.gradio.live\n",
            "\n",
            "This share link expires in 72 hours. For free permanent hosting and GPU upgrades, run `gradio deploy` from Terminal to deploy to Spaces (https://huggingface.co/spaces)\n"
          ]
        },
        {
          "output_type": "display_data",
          "data": {
            "text/plain": [
              "<IPython.core.display.HTML object>"
            ],
            "text/html": [
              "<div><iframe src=\"https://9009976e574865caa1.gradio.live\" width=\"100%\" height=\"500\" allow=\"autoplay; camera; microphone; clipboard-read; clipboard-write;\" frameborder=\"0\" allowfullscreen></iframe></div>"
            ]
          },
          "metadata": {}
        },
        {
          "output_type": "execute_result",
          "data": {
            "text/plain": []
          },
          "metadata": {},
          "execution_count": 39
        }
      ]
    },
    {
      "cell_type": "code",
      "source": [
        "import gradio as gr\n",
        "import tts_final  # tts_final.py 파일 임포트\n",
        "from PIL import Image\n",
        "\n",
        "# tts_final.py 파일 내용 불러오기\n",
        "from tts_final import tts\n",
        "\n",
        "# 객체 감지 함수 구현\n",
        "def objDetect(image):\n",
        "    \"\"\"\n",
        "    주어진 이미지에서 객체를 감지하는 함수.\n",
        "\n",
        "    매개변수:\n",
        "    image (ndarray): 감지할 이미지.\n",
        "\n",
        "    반환:\n",
        "    results (list): 감지된 객체의 결과 리스트.\n",
        "    \"\"\"\n",
        "    # 예측 수행\n",
        "    results = model.predict(image)\n",
        "    print(results)\n",
        "    print(bestResult(results))\n",
        "    # results = [\"can\", \"glass\", \"can\", \"paper\", \"can\", \"pet\", \"plastic\", \"styrofoam\", \"vinyl\", \"can\"]\n",
        "\n",
        "    return bestResult(results)\n",
        "\n",
        "# 이미지에서 객체를 감지하고 TTS로 변환하는 함수\n",
        "def process_image(image):\n",
        "    detected_objects = objDetect(image)\n",
        "    tts_result = tts(detected_objects)\n",
        "    return tts_result, detected_objects  # TTS 결과와 감지된 객체 반환\n",
        "\n",
        "# Gradio 인터페이스 생성\n",
        "with gr.Blocks(css=\"styles.css\") as iface:\n",
        "    # 타이틀 및 설명 텍스트 추가\n",
        "    gr.Markdown(\"<div class='container'><h1>Voicena 보이시네</h1>\")\n",
        "    gr.Markdown(\"사진을 등록해주세요.</div>\")\n",
        "\n",
        "    with gr.Column():\n",
        "        input_image = gr.Image(type=\"pil\", label=\"Input Image\")\n",
        "        #output_audio = gr.Audio(label=\"TTS Result\", type=\"filepath\", autoplay=True)\n",
        "        output_text = gr.Textbox(label=\"Detected Objects\")  # 감지된 객체 결과를 표시할 텍스트박스 추가\n",
        "        submit_button = gr.Button(\"Process Image\")\n",
        "\n",
        "    submit_button.click(fn=process_image, inputs=input_image, outputs=[output_audio, output_text])  # 텍스트박스에 출력 추가\n",
        "\n",
        "    # 하단바 추가\n",
        "    gr.Markdown(\"<div class='container'><hr>\")\n",
        "    gr.Markdown(\"© 2023 Your Company Name. All rights reserved.</div>\")\n",
        "\n",
        "# 인터페이스 실행 및 공유 URL 생성\n",
        "iface.launch(share=True)\n"
      ],
      "metadata": {
        "colab": {
          "base_uri": "https://localhost:8080/",
          "height": 613
        },
        "id": "1OP5PZaqJ0MP",
        "outputId": "4681021e-dfa7-4ae9-c2bf-b6782b1f24e3"
      },
      "execution_count": 26,
      "outputs": [
        {
          "output_type": "stream",
          "name": "stdout",
          "text": [
            "Colab notebook detected. To show errors in colab notebook, set debug=True in launch()\n",
            "Running on public URL: https://8c6dc37586f0ed0ab0.gradio.live\n",
            "\n",
            "This share link expires in 72 hours. For free permanent hosting and GPU upgrades, run `gradio deploy` from Terminal to deploy to Spaces (https://huggingface.co/spaces)\n"
          ]
        },
        {
          "output_type": "display_data",
          "data": {
            "text/plain": [
              "<IPython.core.display.HTML object>"
            ],
            "text/html": [
              "<div><iframe src=\"https://8c6dc37586f0ed0ab0.gradio.live\" width=\"100%\" height=\"500\" allow=\"autoplay; camera; microphone; clipboard-read; clipboard-write;\" frameborder=\"0\" allowfullscreen></iframe></div>"
            ]
          },
          "metadata": {}
        },
        {
          "output_type": "execute_result",
          "data": {
            "text/plain": []
          },
          "metadata": {},
          "execution_count": 26
        }
      ]
    }
  ]
}