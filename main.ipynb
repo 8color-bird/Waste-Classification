{
  "nbformat": 4,
  "nbformat_minor": 0,
  "metadata": {
    "colab": {
      "provenance": []
    },
    "kernelspec": {
      "name": "python3",
      "display_name": "Python 3"
    },
    "language_info": {
      "name": "python"
    }
  },
  "cells": [
    {
      "cell_type": "code",
      "source": [
        "#필요한 라이브러리 정의\n",
        "#!pip install gradio\n",
        "import gradio as gr\n",
        "#!pip install gtts\n",
        "\n",
        "from tts_final import tts\n",
        "#!pip install ultralytics\n",
        "import torch\n",
        "from ultralytics import YOLO\n",
        "import cv2\n",
        "import numpy as np"
      ],
      "metadata": {
        "id": "CtZsigM-L_8T"
      },
      "execution_count": 11,
      "outputs": []
    },
    {
      "cell_type": "code",
      "source": [
        "from collections import Counter\n",
        "from ultralytics import YOLO\n",
        "import gradio as gr\n",
        "import sys\n",
        "import os\n",
        "import tempfile\n",
        "from PIL import Image\n",
        "\n",
        "# tts 모듈 경로 추가\n",
        "sys.path.append('/content')\n",
        "\n",
        "from tts_final import tts  # tts 함수 임포트\n",
        "\n",
        "# 영어로 설정된 class를 한국어로 번역 (tts를 위해서)\n",
        "def wordChanger(word):\n",
        "    translation_dict = {\n",
        "        \"can\": \"캔\",\n",
        "        \"glass\": \"유리\",\n",
        "        \"paper\": \"종이\",\n",
        "        \"pet\": \"페트병\",\n",
        "        \"plastic\": \"플라스틱\",\n",
        "        \"styrofoam\": \"스티로폼\",\n",
        "        \"vinyl\": \"비닐\"\n",
        "    }\n",
        "    return translation_dict.get(word, word)\n",
        "\n",
        "# YOLO 모델 로드\n",
        "model = YOLO(\"/content/best.pt\")\n",
        "\n",
        "# 객체 감지 함수 구현\n",
        "def objDetect(image):\n",
        "    # 이미지를 모델에 입력으로 변환\n",
        "    results = model.predict(source=image)\n",
        "\n",
        "    # 결과에서 객체 이름 추출\n",
        "    detected_objects = []\n",
        "    for result in results:\n",
        "        detected_objects.extend([result.names[int(cls)] for cls in result.boxes.cls])\n",
        "\n",
        "    # 객체의 개수 세기\n",
        "    object_counts = Counter(detected_objects)\n",
        "    object_counts_dict = dict(object_counts)\n",
        "\n",
        "    # 최빈값 찾기\n",
        "    most_common_word, _ = object_counts.most_common(1)[0]\n",
        "\n",
        "    # 최빈값 번역하기\n",
        "    best = wordChanger(most_common_word)\n",
        "\n",
        "    return [best]\n",
        "\n",
        "# 이미지에서 객체를 감지하고 TTS로 변환하는 함수\n",
        "def process_image(image):\n",
        "    try:\n",
        "        print(\"Saving image...\")\n",
        "        # 이미지를 파일로 저장\n",
        "        temp_image_path = tempfile.NamedTemporaryFile(delete=False, suffix='.jpg').name\n",
        "        image.save(temp_image_path)\n",
        "        print(f\"Image saved to {temp_image_path}\")\n",
        "\n",
        "        # 객체 감지\n",
        "        detected_objects = objDetect(temp_image_path)\n",
        "        print(f\"Detected objects: {detected_objects}\")\n",
        "\n",
        "        # TTS 결과를 생성\n",
        "        temp_audio_path = tts(detected_objects)\n",
        "        print(f\"TTS result saved to {temp_audio_path}\")\n",
        "\n",
        "        return temp_audio_path\n",
        "    except Exception as e:\n",
        "        print(f\"Error in process_image: {e}\")\n",
        "        return str(e)\n",
        "\n",
        "# Gradio 인터페이스 생성\n",
        "with gr.Blocks(css=\"styles.css\") as iface:\n",
        "    # 타이틀 및 설명 텍스트 추가\n",
        "    gr.Markdown(\"<div class='container'><h1>Voicena 보이시네</h1>\")\n",
        "    gr.Markdown(\"사진을 등록해주세요.</div>\")\n",
        "\n",
        "    with gr.Column():\n",
        "        input_image = gr.Image(type=\"pil\", label=\"Input Image\")\n",
        "        submit_button = gr.Button(\"Process Image\")\n",
        "        output_audio = gr.Audio(label=\"TTS Result\", type=\"filepath\", autoplay=True)\n",
        "\n",
        "    submit_button.click(fn=process_image, inputs=input_image, outputs=output_audio)\n",
        "\n",
        "    # 하단바 추가\n",
        "    gr.Markdown(\"<div class='container'><hr>\")\n",
        "    gr.Markdown(\"© 2024 8 color bird. All rights reserved.</div>\")\n",
        "\n",
        "# 인터페이스 실행 및 공유 URL 생성\n",
        "iface.launch(share=True)\n"
      ],
      "metadata": {
        "colab": {
          "base_uri": "https://localhost:8080/",
          "height": 613
        },
        "id": "DdbwCMRpL00J",
        "outputId": "85f9714e-1ae6-413a-83ef-dc7a7d4c8651"
      },
      "execution_count": 12,
      "outputs": [
        {
          "output_type": "stream",
          "name": "stdout",
          "text": [
            "Colab notebook detected. To show errors in colab notebook, set debug=True in launch()\n",
            "Running on public URL: https://25bc443500479404c5.gradio.live\n",
            "\n",
            "This share link expires in 72 hours. For free permanent hosting and GPU upgrades, run `gradio deploy` from Terminal to deploy to Spaces (https://huggingface.co/spaces)\n"
          ]
        },
        {
          "output_type": "display_data",
          "data": {
            "text/plain": [
              "<IPython.core.display.HTML object>"
            ],
            "text/html": [
              "<div><iframe src=\"https://25bc443500479404c5.gradio.live\" width=\"100%\" height=\"500\" allow=\"autoplay; camera; microphone; clipboard-read; clipboard-write;\" frameborder=\"0\" allowfullscreen></iframe></div>"
            ]
          },
          "metadata": {}
        },
        {
          "output_type": "execute_result",
          "data": {
            "text/plain": []
          },
          "metadata": {},
          "execution_count": 12
        }
      ]
    }
  ]
}